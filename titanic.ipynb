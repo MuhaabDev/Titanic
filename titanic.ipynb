{
 "cells": [
  {
   "cell_type": "markdown",
   "id": "453fe680",
   "metadata": {
    "papermill": {
     "duration": 0.00686,
     "end_time": "2025-10-01T12:34:47.378575",
     "exception": false,
     "start_time": "2025-10-01T12:34:47.371715",
     "status": "completed"
    },
    "tags": []
   },
   "source": [
    "# Load The Data"
   ]
  },
  {
   "cell_type": "code",
   "execution_count": 1,
   "id": "8a124dd8",
   "metadata": {
    "_cell_guid": "b1076dfc-b9ad-4769-8c92-a6c4dae69d19",
    "_uuid": "8f2839f25d086af736a60e9eeb907d3b93b6e0e5",
    "execution": {
     "iopub.execute_input": "2025-10-01T12:34:47.392710Z",
     "iopub.status.busy": "2025-10-01T12:34:47.392393Z",
     "iopub.status.idle": "2025-10-01T12:34:52.649931Z",
     "shell.execute_reply": "2025-10-01T12:34:52.648948Z"
    },
    "papermill": {
     "duration": 5.266897,
     "end_time": "2025-10-01T12:34:52.651687",
     "exception": false,
     "start_time": "2025-10-01T12:34:47.384790",
     "status": "completed"
    },
    "tags": []
   },
   "outputs": [
    {
     "name": "stdout",
     "output_type": "stream",
     "text": [
      "/kaggle/input/titanic/train.csv\n",
      "/kaggle/input/titanic/test.csv\n",
      "/kaggle/input/titanic/gender_submission.csv\n"
     ]
    }
   ],
   "source": [
    "# Data handling\n",
    "import pandas as pd\n",
    "import numpy as np\n",
    "from sklearn.impute import SimpleImputer\n",
    "from sklearn.preprocessing import OneHotEncoder, StandardScaler\n",
    "\n",
    "# Visualization\n",
    "import matplotlib.pyplot as plt\n",
    "import seaborn as sns\n",
    "from pandas.plotting import scatter_matrix\n",
    "\n",
    "#Training The Model\n",
    "from sklearn.linear_model import LogisticRegression\n",
    "from sklearn.ensemble import RandomForestClassifier\n",
    "from sklearn.model_selection import train_test_split, cross_val_score\n",
    "from sklearn.pipeline import Pipeline\n",
    "from sklearn.compose import ColumnTransformer\n",
    "from sklearn.model_selection import train_test_split, cross_val_score\n",
    "from sklearn.experimental import enable_iterative_imputer  # must be imported before\n",
    "from sklearn.impute import IterativeImputer\n",
    "\n",
    "\n",
    "# Loading Data\n",
    "from pathlib import Path\n",
    "import os\n",
    "for dirname, _, filenames in os.walk('/kaggle/input'):\n",
    "    for filename in filenames:\n",
    "        print(os.path.join(dirname, filename))\n"
   ]
  },
  {
   "cell_type": "code",
   "execution_count": 2,
   "id": "b8534656",
   "metadata": {
    "execution": {
     "iopub.execute_input": "2025-10-01T12:34:52.666477Z",
     "iopub.status.busy": "2025-10-01T12:34:52.665976Z",
     "iopub.status.idle": "2025-10-01T12:34:52.700376Z",
     "shell.execute_reply": "2025-10-01T12:34:52.699391Z"
    },
    "papermill": {
     "duration": 0.043605,
     "end_time": "2025-10-01T12:34:52.702412",
     "exception": false,
     "start_time": "2025-10-01T12:34:52.658807",
     "status": "completed"
    },
    "tags": []
   },
   "outputs": [],
   "source": [
    "titanic_train = pd.read_csv(\"/kaggle/input/titanic/train.csv\")\n",
    "titanic_test = pd.read_csv(\"/kaggle/input/titanic/test.csv\")"
   ]
  },
  {
   "cell_type": "markdown",
   "id": "af7bcc2a",
   "metadata": {
    "papermill": {
     "duration": 0.005631,
     "end_time": "2025-10-01T12:34:52.714505",
     "exception": false,
     "start_time": "2025-10-01T12:34:52.708874",
     "status": "completed"
    },
    "tags": []
   },
   "source": [
    "# Explore and Visualize The Data"
   ]
  },
  {
   "cell_type": "code",
   "execution_count": 3,
   "id": "99e46130",
   "metadata": {
    "execution": {
     "iopub.execute_input": "2025-10-01T12:34:52.727434Z",
     "iopub.status.busy": "2025-10-01T12:34:52.727053Z",
     "iopub.status.idle": "2025-10-01T12:34:52.734752Z",
     "shell.execute_reply": "2025-10-01T12:34:52.733696Z"
    },
    "papermill": {
     "duration": 0.016087,
     "end_time": "2025-10-01T12:34:52.736416",
     "exception": false,
     "start_time": "2025-10-01T12:34:52.720329",
     "status": "completed"
    },
    "tags": []
   },
   "outputs": [
    {
     "data": {
      "text/plain": [
       "(891, 12)"
      ]
     },
     "execution_count": 3,
     "metadata": {},
     "output_type": "execute_result"
    }
   ],
   "source": [
    "titanic_train.shape"
   ]
  },
  {
   "cell_type": "code",
   "execution_count": 4,
   "id": "99e6d6d0",
   "metadata": {
    "execution": {
     "iopub.execute_input": "2025-10-01T12:34:52.750723Z",
     "iopub.status.busy": "2025-10-01T12:34:52.750412Z",
     "iopub.status.idle": "2025-10-01T12:34:52.756743Z",
     "shell.execute_reply": "2025-10-01T12:34:52.755407Z"
    },
    "papermill": {
     "duration": 0.015755,
     "end_time": "2025-10-01T12:34:52.758569",
     "exception": false,
     "start_time": "2025-10-01T12:34:52.742814",
     "status": "completed"
    },
    "tags": []
   },
   "outputs": [
    {
     "data": {
      "text/plain": [
       "(418, 11)"
      ]
     },
     "execution_count": 4,
     "metadata": {},
     "output_type": "execute_result"
    }
   ],
   "source": [
    "titanic_test.shape"
   ]
  },
  {
   "cell_type": "code",
   "execution_count": 5,
   "id": "adc6bd7c",
   "metadata": {
    "execution": {
     "iopub.execute_input": "2025-10-01T12:34:52.774633Z",
     "iopub.status.busy": "2025-10-01T12:34:52.774251Z",
     "iopub.status.idle": "2025-10-01T12:34:52.803638Z",
     "shell.execute_reply": "2025-10-01T12:34:52.802686Z"
    },
    "papermill": {
     "duration": 0.039549,
     "end_time": "2025-10-01T12:34:52.805320",
     "exception": false,
     "start_time": "2025-10-01T12:34:52.765771",
     "status": "completed"
    },
    "tags": []
   },
   "outputs": [
    {
     "data": {
      "text/html": [
       "<div>\n",
       "<style scoped>\n",
       "    .dataframe tbody tr th:only-of-type {\n",
       "        vertical-align: middle;\n",
       "    }\n",
       "\n",
       "    .dataframe tbody tr th {\n",
       "        vertical-align: top;\n",
       "    }\n",
       "\n",
       "    .dataframe thead th {\n",
       "        text-align: right;\n",
       "    }\n",
       "</style>\n",
       "<table border=\"1\" class=\"dataframe\">\n",
       "  <thead>\n",
       "    <tr style=\"text-align: right;\">\n",
       "      <th></th>\n",
       "      <th>PassengerId</th>\n",
       "      <th>Survived</th>\n",
       "      <th>Pclass</th>\n",
       "      <th>Name</th>\n",
       "      <th>Sex</th>\n",
       "      <th>Age</th>\n",
       "      <th>SibSp</th>\n",
       "      <th>Parch</th>\n",
       "      <th>Ticket</th>\n",
       "      <th>Fare</th>\n",
       "      <th>Cabin</th>\n",
       "      <th>Embarked</th>\n",
       "    </tr>\n",
       "  </thead>\n",
       "  <tbody>\n",
       "    <tr>\n",
       "      <th>0</th>\n",
       "      <td>1</td>\n",
       "      <td>0</td>\n",
       "      <td>3</td>\n",
       "      <td>Braund, Mr. Owen Harris</td>\n",
       "      <td>male</td>\n",
       "      <td>22.0</td>\n",
       "      <td>1</td>\n",
       "      <td>0</td>\n",
       "      <td>A/5 21171</td>\n",
       "      <td>7.2500</td>\n",
       "      <td>NaN</td>\n",
       "      <td>S</td>\n",
       "    </tr>\n",
       "    <tr>\n",
       "      <th>1</th>\n",
       "      <td>2</td>\n",
       "      <td>1</td>\n",
       "      <td>1</td>\n",
       "      <td>Cumings, Mrs. John Bradley (Florence Briggs Th...</td>\n",
       "      <td>female</td>\n",
       "      <td>38.0</td>\n",
       "      <td>1</td>\n",
       "      <td>0</td>\n",
       "      <td>PC 17599</td>\n",
       "      <td>71.2833</td>\n",
       "      <td>C85</td>\n",
       "      <td>C</td>\n",
       "    </tr>\n",
       "    <tr>\n",
       "      <th>2</th>\n",
       "      <td>3</td>\n",
       "      <td>1</td>\n",
       "      <td>3</td>\n",
       "      <td>Heikkinen, Miss. Laina</td>\n",
       "      <td>female</td>\n",
       "      <td>26.0</td>\n",
       "      <td>0</td>\n",
       "      <td>0</td>\n",
       "      <td>STON/O2. 3101282</td>\n",
       "      <td>7.9250</td>\n",
       "      <td>NaN</td>\n",
       "      <td>S</td>\n",
       "    </tr>\n",
       "    <tr>\n",
       "      <th>3</th>\n",
       "      <td>4</td>\n",
       "      <td>1</td>\n",
       "      <td>1</td>\n",
       "      <td>Futrelle, Mrs. Jacques Heath (Lily May Peel)</td>\n",
       "      <td>female</td>\n",
       "      <td>35.0</td>\n",
       "      <td>1</td>\n",
       "      <td>0</td>\n",
       "      <td>113803</td>\n",
       "      <td>53.1000</td>\n",
       "      <td>C123</td>\n",
       "      <td>S</td>\n",
       "    </tr>\n",
       "    <tr>\n",
       "      <th>4</th>\n",
       "      <td>5</td>\n",
       "      <td>0</td>\n",
       "      <td>3</td>\n",
       "      <td>Allen, Mr. William Henry</td>\n",
       "      <td>male</td>\n",
       "      <td>35.0</td>\n",
       "      <td>0</td>\n",
       "      <td>0</td>\n",
       "      <td>373450</td>\n",
       "      <td>8.0500</td>\n",
       "      <td>NaN</td>\n",
       "      <td>S</td>\n",
       "    </tr>\n",
       "  </tbody>\n",
       "</table>\n",
       "</div>"
      ],
      "text/plain": [
       "   PassengerId  Survived  Pclass  \\\n",
       "0            1         0       3   \n",
       "1            2         1       1   \n",
       "2            3         1       3   \n",
       "3            4         1       1   \n",
       "4            5         0       3   \n",
       "\n",
       "                                                Name     Sex   Age  SibSp  \\\n",
       "0                            Braund, Mr. Owen Harris    male  22.0      1   \n",
       "1  Cumings, Mrs. John Bradley (Florence Briggs Th...  female  38.0      1   \n",
       "2                             Heikkinen, Miss. Laina  female  26.0      0   \n",
       "3       Futrelle, Mrs. Jacques Heath (Lily May Peel)  female  35.0      1   \n",
       "4                           Allen, Mr. William Henry    male  35.0      0   \n",
       "\n",
       "   Parch            Ticket     Fare Cabin Embarked  \n",
       "0      0         A/5 21171   7.2500   NaN        S  \n",
       "1      0          PC 17599  71.2833   C85        C  \n",
       "2      0  STON/O2. 3101282   7.9250   NaN        S  \n",
       "3      0            113803  53.1000  C123        S  \n",
       "4      0            373450   8.0500   NaN        S  "
      ]
     },
     "execution_count": 5,
     "metadata": {},
     "output_type": "execute_result"
    }
   ],
   "source": [
    "titanic_train.head()"
   ]
  },
  {
   "cell_type": "code",
   "execution_count": 6,
   "id": "624e7d89",
   "metadata": {
    "execution": {
     "iopub.execute_input": "2025-10-01T12:34:52.820491Z",
     "iopub.status.busy": "2025-10-01T12:34:52.820148Z",
     "iopub.status.idle": "2025-10-01T12:34:52.847372Z",
     "shell.execute_reply": "2025-10-01T12:34:52.845835Z"
    },
    "papermill": {
     "duration": 0.036798,
     "end_time": "2025-10-01T12:34:52.849242",
     "exception": false,
     "start_time": "2025-10-01T12:34:52.812444",
     "status": "completed"
    },
    "tags": []
   },
   "outputs": [
    {
     "name": "stdout",
     "output_type": "stream",
     "text": [
      "<class 'pandas.core.frame.DataFrame'>\n",
      "RangeIndex: 891 entries, 0 to 890\n",
      "Data columns (total 12 columns):\n",
      " #   Column       Non-Null Count  Dtype  \n",
      "---  ------       --------------  -----  \n",
      " 0   PassengerId  891 non-null    int64  \n",
      " 1   Survived     891 non-null    int64  \n",
      " 2   Pclass       891 non-null    int64  \n",
      " 3   Name         891 non-null    object \n",
      " 4   Sex          891 non-null    object \n",
      " 5   Age          714 non-null    float64\n",
      " 6   SibSp        891 non-null    int64  \n",
      " 7   Parch        891 non-null    int64  \n",
      " 8   Ticket       891 non-null    object \n",
      " 9   Fare         891 non-null    float64\n",
      " 10  Cabin        204 non-null    object \n",
      " 11  Embarked     889 non-null    object \n",
      "dtypes: float64(2), int64(5), object(5)\n",
      "memory usage: 83.7+ KB\n"
     ]
    }
   ],
   "source": [
    "titanic_train.info()"
   ]
  },
  {
   "cell_type": "code",
   "execution_count": 7,
   "id": "21c06233",
   "metadata": {
    "execution": {
     "iopub.execute_input": "2025-10-01T12:34:52.864526Z",
     "iopub.status.busy": "2025-10-01T12:34:52.864191Z",
     "iopub.status.idle": "2025-10-01T12:34:52.872810Z",
     "shell.execute_reply": "2025-10-01T12:34:52.871969Z"
    },
    "papermill": {
     "duration": 0.017835,
     "end_time": "2025-10-01T12:34:52.874600",
     "exception": false,
     "start_time": "2025-10-01T12:34:52.856765",
     "status": "completed"
    },
    "tags": []
   },
   "outputs": [
    {
     "data": {
      "text/plain": [
       "PassengerId      0\n",
       "Survived         0\n",
       "Pclass           0\n",
       "Name             0\n",
       "Sex              0\n",
       "Age            177\n",
       "SibSp            0\n",
       "Parch            0\n",
       "Ticket           0\n",
       "Fare             0\n",
       "Cabin          687\n",
       "Embarked         2\n",
       "dtype: int64"
      ]
     },
     "execution_count": 7,
     "metadata": {},
     "output_type": "execute_result"
    }
   ],
   "source": [
    "titanic_train.isnull().sum()"
   ]
  },
  {
   "cell_type": "code",
   "execution_count": 8,
   "id": "2d482a52",
   "metadata": {
    "execution": {
     "iopub.execute_input": "2025-10-01T12:34:52.889182Z",
     "iopub.status.busy": "2025-10-01T12:34:52.888827Z",
     "iopub.status.idle": "2025-10-01T12:34:52.898288Z",
     "shell.execute_reply": "2025-10-01T12:34:52.897146Z"
    },
    "papermill": {
     "duration": 0.018755,
     "end_time": "2025-10-01T12:34:52.900108",
     "exception": false,
     "start_time": "2025-10-01T12:34:52.881353",
     "status": "completed"
    },
    "tags": []
   },
   "outputs": [
    {
     "data": {
      "text/plain": [
       "Cabin\n",
       "B96 B98        4\n",
       "G6             4\n",
       "C23 C25 C27    4\n",
       "C22 C26        3\n",
       "F33            3\n",
       "              ..\n",
       "E34            1\n",
       "C7             1\n",
       "C54            1\n",
       "E36            1\n",
       "C148           1\n",
       "Name: count, Length: 147, dtype: int64"
      ]
     },
     "execution_count": 8,
     "metadata": {},
     "output_type": "execute_result"
    }
   ],
   "source": [
    "titanic_train[\"Cabin\"].value_counts()"
   ]
  },
  {
   "cell_type": "code",
   "execution_count": 9,
   "id": "bdd42948",
   "metadata": {
    "execution": {
     "iopub.execute_input": "2025-10-01T12:34:52.914990Z",
     "iopub.status.busy": "2025-10-01T12:34:52.914619Z",
     "iopub.status.idle": "2025-10-01T12:34:52.924248Z",
     "shell.execute_reply": "2025-10-01T12:34:52.923362Z"
    },
    "papermill": {
     "duration": 0.019191,
     "end_time": "2025-10-01T12:34:52.925979",
     "exception": false,
     "start_time": "2025-10-01T12:34:52.906788",
     "status": "completed"
    },
    "tags": []
   },
   "outputs": [
    {
     "data": {
      "text/plain": [
       "Ticket\n",
       "347082      7\n",
       "CA. 2343    7\n",
       "1601        7\n",
       "3101295     6\n",
       "CA 2144     6\n",
       "           ..\n",
       "9234        1\n",
       "19988       1\n",
       "2693        1\n",
       "PC 17612    1\n",
       "370376      1\n",
       "Name: count, Length: 681, dtype: int64"
      ]
     },
     "execution_count": 9,
     "metadata": {},
     "output_type": "execute_result"
    }
   ],
   "source": [
    "titanic_train[\"Ticket\"].value_counts()"
   ]
  },
  {
   "cell_type": "code",
   "execution_count": 10,
   "id": "291d5258",
   "metadata": {
    "execution": {
     "iopub.execute_input": "2025-10-01T12:34:52.941061Z",
     "iopub.status.busy": "2025-10-01T12:34:52.940699Z",
     "iopub.status.idle": "2025-10-01T12:34:52.953028Z",
     "shell.execute_reply": "2025-10-01T12:34:52.952140Z"
    },
    "papermill": {
     "duration": 0.021842,
     "end_time": "2025-10-01T12:34:52.954577",
     "exception": false,
     "start_time": "2025-10-01T12:34:52.932735",
     "status": "completed"
    },
    "tags": []
   },
   "outputs": [
    {
     "data": {
      "text/plain": [
       "Age\n",
       "0.42     1\n",
       "0.67     1\n",
       "0.75     2\n",
       "0.83     2\n",
       "0.92     1\n",
       "        ..\n",
       "70.00    2\n",
       "70.50    1\n",
       "71.00    2\n",
       "74.00    1\n",
       "80.00    1\n",
       "Name: count, Length: 88, dtype: int64"
      ]
     },
     "execution_count": 10,
     "metadata": {},
     "output_type": "execute_result"
    }
   ],
   "source": [
    "titanic_train[\"Age\"].value_counts().sort_index()"
   ]
  },
  {
   "cell_type": "code",
   "execution_count": 11,
   "id": "49f21786",
   "metadata": {
    "execution": {
     "iopub.execute_input": "2025-10-01T12:34:52.969394Z",
     "iopub.status.busy": "2025-10-01T12:34:52.969031Z",
     "iopub.status.idle": "2025-10-01T12:34:52.979589Z",
     "shell.execute_reply": "2025-10-01T12:34:52.978407Z"
    },
    "papermill": {
     "duration": 0.01991,
     "end_time": "2025-10-01T12:34:52.981285",
     "exception": false,
     "start_time": "2025-10-01T12:34:52.961375",
     "status": "completed"
    },
    "tags": []
   },
   "outputs": [
    {
     "data": {
      "text/plain": [
       "Age\n",
       "74.00     1\n",
       "34.50     1\n",
       "0.42      1\n",
       "0.67      1\n",
       "66.00     1\n",
       "         ..\n",
       "28.00    25\n",
       "19.00    25\n",
       "18.00    26\n",
       "22.00    27\n",
       "24.00    30\n",
       "Name: count, Length: 88, dtype: int64"
      ]
     },
     "execution_count": 11,
     "metadata": {},
     "output_type": "execute_result"
    }
   ],
   "source": [
    "titanic_train[\"Age\"].value_counts().sort_values()"
   ]
  },
  {
   "cell_type": "code",
   "execution_count": 12,
   "id": "ca8480d6",
   "metadata": {
    "execution": {
     "iopub.execute_input": "2025-10-01T12:34:52.996645Z",
     "iopub.status.busy": "2025-10-01T12:34:52.996238Z",
     "iopub.status.idle": "2025-10-01T12:34:53.004498Z",
     "shell.execute_reply": "2025-10-01T12:34:53.003584Z"
    },
    "papermill": {
     "duration": 0.01805,
     "end_time": "2025-10-01T12:34:53.006159",
     "exception": false,
     "start_time": "2025-10-01T12:34:52.988109",
     "status": "completed"
    },
    "tags": []
   },
   "outputs": [
    {
     "data": {
      "text/plain": [
       "Embarked\n",
       "S    644\n",
       "C    168\n",
       "Q     77\n",
       "Name: count, dtype: int64"
      ]
     },
     "execution_count": 12,
     "metadata": {},
     "output_type": "execute_result"
    }
   ],
   "source": [
    "titanic_train[\"Embarked\"].value_counts()"
   ]
  },
  {
   "cell_type": "code",
   "execution_count": 13,
   "id": "1bba343e",
   "metadata": {
    "execution": {
     "iopub.execute_input": "2025-10-01T12:34:53.021340Z",
     "iopub.status.busy": "2025-10-01T12:34:53.020960Z",
     "iopub.status.idle": "2025-10-01T12:34:53.058700Z",
     "shell.execute_reply": "2025-10-01T12:34:53.057639Z"
    },
    "papermill": {
     "duration": 0.047196,
     "end_time": "2025-10-01T12:34:53.060355",
     "exception": false,
     "start_time": "2025-10-01T12:34:53.013159",
     "status": "completed"
    },
    "tags": []
   },
   "outputs": [
    {
     "data": {
      "text/html": [
       "<div>\n",
       "<style scoped>\n",
       "    .dataframe tbody tr th:only-of-type {\n",
       "        vertical-align: middle;\n",
       "    }\n",
       "\n",
       "    .dataframe tbody tr th {\n",
       "        vertical-align: top;\n",
       "    }\n",
       "\n",
       "    .dataframe thead th {\n",
       "        text-align: right;\n",
       "    }\n",
       "</style>\n",
       "<table border=\"1\" class=\"dataframe\">\n",
       "  <thead>\n",
       "    <tr style=\"text-align: right;\">\n",
       "      <th></th>\n",
       "      <th>PassengerId</th>\n",
       "      <th>Survived</th>\n",
       "      <th>Pclass</th>\n",
       "      <th>Age</th>\n",
       "      <th>SibSp</th>\n",
       "      <th>Parch</th>\n",
       "      <th>Fare</th>\n",
       "    </tr>\n",
       "  </thead>\n",
       "  <tbody>\n",
       "    <tr>\n",
       "      <th>count</th>\n",
       "      <td>891.000000</td>\n",
       "      <td>891.000000</td>\n",
       "      <td>891.000000</td>\n",
       "      <td>714.000000</td>\n",
       "      <td>891.000000</td>\n",
       "      <td>891.000000</td>\n",
       "      <td>891.000000</td>\n",
       "    </tr>\n",
       "    <tr>\n",
       "      <th>mean</th>\n",
       "      <td>446.000000</td>\n",
       "      <td>0.383838</td>\n",
       "      <td>2.308642</td>\n",
       "      <td>29.699118</td>\n",
       "      <td>0.523008</td>\n",
       "      <td>0.381594</td>\n",
       "      <td>32.204208</td>\n",
       "    </tr>\n",
       "    <tr>\n",
       "      <th>std</th>\n",
       "      <td>257.353842</td>\n",
       "      <td>0.486592</td>\n",
       "      <td>0.836071</td>\n",
       "      <td>14.526497</td>\n",
       "      <td>1.102743</td>\n",
       "      <td>0.806057</td>\n",
       "      <td>49.693429</td>\n",
       "    </tr>\n",
       "    <tr>\n",
       "      <th>min</th>\n",
       "      <td>1.000000</td>\n",
       "      <td>0.000000</td>\n",
       "      <td>1.000000</td>\n",
       "      <td>0.420000</td>\n",
       "      <td>0.000000</td>\n",
       "      <td>0.000000</td>\n",
       "      <td>0.000000</td>\n",
       "    </tr>\n",
       "    <tr>\n",
       "      <th>25%</th>\n",
       "      <td>223.500000</td>\n",
       "      <td>0.000000</td>\n",
       "      <td>2.000000</td>\n",
       "      <td>20.125000</td>\n",
       "      <td>0.000000</td>\n",
       "      <td>0.000000</td>\n",
       "      <td>7.910400</td>\n",
       "    </tr>\n",
       "    <tr>\n",
       "      <th>50%</th>\n",
       "      <td>446.000000</td>\n",
       "      <td>0.000000</td>\n",
       "      <td>3.000000</td>\n",
       "      <td>28.000000</td>\n",
       "      <td>0.000000</td>\n",
       "      <td>0.000000</td>\n",
       "      <td>14.454200</td>\n",
       "    </tr>\n",
       "    <tr>\n",
       "      <th>75%</th>\n",
       "      <td>668.500000</td>\n",
       "      <td>1.000000</td>\n",
       "      <td>3.000000</td>\n",
       "      <td>38.000000</td>\n",
       "      <td>1.000000</td>\n",
       "      <td>0.000000</td>\n",
       "      <td>31.000000</td>\n",
       "    </tr>\n",
       "    <tr>\n",
       "      <th>max</th>\n",
       "      <td>891.000000</td>\n",
       "      <td>1.000000</td>\n",
       "      <td>3.000000</td>\n",
       "      <td>80.000000</td>\n",
       "      <td>8.000000</td>\n",
       "      <td>6.000000</td>\n",
       "      <td>512.329200</td>\n",
       "    </tr>\n",
       "  </tbody>\n",
       "</table>\n",
       "</div>"
      ],
      "text/plain": [
       "       PassengerId    Survived      Pclass         Age       SibSp  \\\n",
       "count   891.000000  891.000000  891.000000  714.000000  891.000000   \n",
       "mean    446.000000    0.383838    2.308642   29.699118    0.523008   \n",
       "std     257.353842    0.486592    0.836071   14.526497    1.102743   \n",
       "min       1.000000    0.000000    1.000000    0.420000    0.000000   \n",
       "25%     223.500000    0.000000    2.000000   20.125000    0.000000   \n",
       "50%     446.000000    0.000000    3.000000   28.000000    0.000000   \n",
       "75%     668.500000    1.000000    3.000000   38.000000    1.000000   \n",
       "max     891.000000    1.000000    3.000000   80.000000    8.000000   \n",
       "\n",
       "            Parch        Fare  \n",
       "count  891.000000  891.000000  \n",
       "mean     0.381594   32.204208  \n",
       "std      0.806057   49.693429  \n",
       "min      0.000000    0.000000  \n",
       "25%      0.000000    7.910400  \n",
       "50%      0.000000   14.454200  \n",
       "75%      0.000000   31.000000  \n",
       "max      6.000000  512.329200  "
      ]
     },
     "execution_count": 13,
     "metadata": {},
     "output_type": "execute_result"
    }
   ],
   "source": [
    "titanic_train.describe()"
   ]
  },
  {
   "cell_type": "code",
   "execution_count": 14,
   "id": "6b991622",
   "metadata": {
    "execution": {
     "iopub.execute_input": "2025-10-01T12:34:53.076310Z",
     "iopub.status.busy": "2025-10-01T12:34:53.075972Z",
     "iopub.status.idle": "2025-10-01T12:34:54.627967Z",
     "shell.execute_reply": "2025-10-01T12:34:54.626675Z"
    },
    "papermill": {
     "duration": 1.561754,
     "end_time": "2025-10-01T12:34:54.629630",
     "exception": false,
     "start_time": "2025-10-01T12:34:53.067876",
     "status": "completed"
    },
    "tags": []
   },
   "outputs": [
    {
     "data": {
      "image/png": "[encoded data removed]",
      "text/plain": [
       "<Figure size 1200x800 with 9 Axes>"
      ]
     },
     "metadata": {},
     "output_type": "display_data"
    }
   ],
   "source": [
    "plt.rc('font', size=14)\n",
    "plt.rc('axes', labelsize=14, titlesize=14)\n",
    "plt.rc('legend', fontsize=14)\n",
    "plt.rc('xtick', labelsize=10)\n",
    "plt.rc('ytick', labelsize=10)\n",
    "\n",
    "titanic_train.hist(bins = 50 , figsize=(12,8))\n",
    "\n",
    "plt.show()"
   ]
  },
  {
   "cell_type": "code",
   "execution_count": 15,
   "id": "f612dea2",
   "metadata": {
    "execution": {
     "iopub.execute_input": "2025-10-01T12:34:54.646775Z",
     "iopub.status.busy": "2025-10-01T12:34:54.646473Z",
     "iopub.status.idle": "2025-10-01T12:34:55.091134Z",
     "shell.execute_reply": "2025-10-01T12:34:55.090159Z"
    },
    "papermill": {
     "duration": 0.455068,
     "end_time": "2025-10-01T12:34:55.092846",
     "exception": false,
     "start_time": "2025-10-01T12:34:54.637778",
     "status": "completed"
    },
    "tags": []
   },
   "outputs": [
    {
     "data": {
      "image/png": "[encoded data removed]",
      "text/plain": [
       "<Figure size 1000x600 with 1 Axes>"
      ]
     },
     "metadata": {},
     "output_type": "display_data"
    }
   ],
   "source": [
    "titanic_train[\"Fare\"].hist(bins=100, figsize=(10,6))\n",
    "plt.xlabel(\"Fare\")\n",
    "plt.ylabel(\"Number of Passengers\")\n",
    "plt.title(\"Fare Distribution\")\n",
    "plt.show()"
   ]
  },
  {
   "cell_type": "code",
   "execution_count": 16,
   "id": "ce17e0ae",
   "metadata": {
    "execution": {
     "iopub.execute_input": "2025-10-01T12:34:55.111171Z",
     "iopub.status.busy": "2025-10-01T12:34:55.110858Z",
     "iopub.status.idle": "2025-10-01T12:34:55.123095Z",
     "shell.execute_reply": "2025-10-01T12:34:55.122238Z"
    },
    "papermill": {
     "duration": 0.023149,
     "end_time": "2025-10-01T12:34:55.124716",
     "exception": false,
     "start_time": "2025-10-01T12:34:55.101567",
     "status": "completed"
    },
    "tags": []
   },
   "outputs": [
    {
     "data": {
      "text/plain": [
       "Survived       1.000000\n",
       "Fare           0.257307\n",
       "Parch          0.081629\n",
       "PassengerId   -0.005007\n",
       "SibSp         -0.035322\n",
       "Age           -0.077221\n",
       "Pclass        -0.338481\n",
       "Name: Survived, dtype: float64"
      ]
     },
     "execution_count": 16,
     "metadata": {},
     "output_type": "execute_result"
    }
   ],
   "source": [
    "corr_matrix = titanic_train.corr(numeric_only = True)\n",
    "corr_matrix[\"Survived\"].sort_values(ascending = False)"
   ]
  },
  {
   "cell_type": "code",
   "execution_count": 17,
   "id": "3f3b7124",
   "metadata": {
    "execution": {
     "iopub.execute_input": "2025-10-01T12:34:55.143322Z",
     "iopub.status.busy": "2025-10-01T12:34:55.142975Z",
     "iopub.status.idle": "2025-10-01T12:34:55.150646Z",
     "shell.execute_reply": "2025-10-01T12:34:55.149497Z"
    },
    "papermill": {
     "duration": 0.018879,
     "end_time": "2025-10-01T12:34:55.152406",
     "exception": false,
     "start_time": "2025-10-01T12:34:55.133527",
     "status": "completed"
    },
    "tags": []
   },
   "outputs": [
    {
     "data": {
      "text/plain": [
       "Fare           1.000000\n",
       "Survived       0.257307\n",
       "Parch          0.216225\n",
       "SibSp          0.159651\n",
       "Age            0.096067\n",
       "PassengerId    0.012658\n",
       "Pclass        -0.549500\n",
       "Name: Fare, dtype: float64"
      ]
     },
     "execution_count": 17,
     "metadata": {},
     "output_type": "execute_result"
    }
   ],
   "source": [
    "corr_matrix[\"Fare\"].sort_values(ascending = False)"
   ]
  },
  {
   "cell_type": "code",
   "execution_count": 18,
   "id": "4ee09627",
   "metadata": {
    "execution": {
     "iopub.execute_input": "2025-10-01T12:34:55.172470Z",
     "iopub.status.busy": "2025-10-01T12:34:55.172145Z",
     "iopub.status.idle": "2025-10-01T12:34:55.391585Z",
     "shell.execute_reply": "2025-10-01T12:34:55.390632Z"
    },
    "papermill": {
     "duration": 0.23268,
     "end_time": "2025-10-01T12:34:55.393778",
     "exception": false,
     "start_time": "2025-10-01T12:34:55.161098",
     "status": "completed"
    },
    "tags": []
   },
   "outputs": [
    {
     "data": {
      "text/plain": [
       "<Axes: xlabel='Pclass', ylabel='Survived'>"
      ]
     },
     "execution_count": 18,
     "metadata": {},
     "output_type": "execute_result"
    },
    {
     "data": {
      "image/png": "[encoded data removed]",
      "text/plain": [
       "<Figure size 640x480 with 1 Axes>"
      ]
     },
     "metadata": {},
     "output_type": "display_data"
    }
   ],
   "source": [
    "sns.barplot(x=\"Pclass\", y=\"Survived\", data=titanic_train)"
   ]
  },
  {
   "cell_type": "markdown",
   "id": "b659dba1",
   "metadata": {
    "papermill": {
     "duration": 0.008492,
     "end_time": "2025-10-01T12:34:55.411616",
     "exception": false,
     "start_time": "2025-10-01T12:34:55.403124",
     "status": "completed"
    },
    "tags": []
   },
   "source": [
    "# Feature Engineering"
   ]
  },
  {
   "cell_type": "code",
   "execution_count": 19,
   "id": "7c5db5c8",
   "metadata": {
    "execution": {
     "iopub.execute_input": "2025-10-01T12:34:55.430905Z",
     "iopub.status.busy": "2025-10-01T12:34:55.430580Z",
     "iopub.status.idle": "2025-10-01T12:34:55.445112Z",
     "shell.execute_reply": "2025-10-01T12:34:55.443948Z"
    },
    "papermill": {
     "duration": 0.026671,
     "end_time": "2025-10-01T12:34:55.446960",
     "exception": false,
     "start_time": "2025-10-01T12:34:55.420289",
     "status": "completed"
    },
    "tags": []
   },
   "outputs": [],
   "source": [
    "train_df = pd.read_csv(\"/kaggle/input/titanic/train.csv\")\n",
    "test_df  = pd.read_csv(\"/kaggle/input/titanic/test.csv\")"
   ]
  },
  {
   "cell_type": "code",
   "execution_count": 20,
   "id": "fab9f366",
   "metadata": {
    "execution": {
     "iopub.execute_input": "2025-10-01T12:34:55.466996Z",
     "iopub.status.busy": "2025-10-01T12:34:55.466414Z",
     "iopub.status.idle": "2025-10-01T12:34:55.476406Z",
     "shell.execute_reply": "2025-10-01T12:34:55.475335Z"
    },
    "papermill": {
     "duration": 0.021698,
     "end_time": "2025-10-01T12:34:55.478085",
     "exception": false,
     "start_time": "2025-10-01T12:34:55.456387",
     "status": "completed"
    },
    "tags": []
   },
   "outputs": [
    {
     "data": {
      "text/html": [
       "<div>\n",
       "<style scoped>\n",
       "    .dataframe tbody tr th:only-of-type {\n",
       "        vertical-align: middle;\n",
       "    }\n",
       "\n",
       "    .dataframe tbody tr th {\n",
       "        vertical-align: top;\n",
       "    }\n",
       "\n",
       "    .dataframe thead th {\n",
       "        text-align: right;\n",
       "    }\n",
       "</style>\n",
       "<table border=\"1\" class=\"dataframe\">\n",
       "  <thead>\n",
       "    <tr style=\"text-align: right;\">\n",
       "      <th></th>\n",
       "      <th>PassengerId</th>\n",
       "      <th>Survived</th>\n",
       "      <th>Pclass</th>\n",
       "      <th>Name</th>\n",
       "      <th>Sex</th>\n",
       "      <th>Age</th>\n",
       "      <th>SibSp</th>\n",
       "      <th>Parch</th>\n",
       "      <th>Ticket</th>\n",
       "      <th>Fare</th>\n",
       "      <th>Cabin</th>\n",
       "      <th>Embarked</th>\n",
       "    </tr>\n",
       "  </thead>\n",
       "  <tbody>\n",
       "  </tbody>\n",
       "</table>\n",
       "</div>"
      ],
      "text/plain": [
       "Empty DataFrame\n",
       "Columns: [PassengerId, Survived, Pclass, Name, Sex, Age, SibSp, Parch, Ticket, Fare, Cabin, Embarked]\n",
       "Index: []"
      ]
     },
     "execution_count": 20,
     "metadata": {},
     "output_type": "execute_result"
    }
   ],
   "source": [
    "train_df.head(0)"
   ]
  },
  {
   "cell_type": "code",
   "execution_count": 21,
   "id": "c3fe7889",
   "metadata": {
    "collapsed": true,
    "execution": {
     "iopub.execute_input": "2025-10-01T12:34:55.497963Z",
     "iopub.status.busy": "2025-10-01T12:34:55.497612Z",
     "iopub.status.idle": "2025-10-01T12:34:55.545230Z",
     "shell.execute_reply": "2025-10-01T12:34:55.544295Z"
    },
    "jupyter": {
     "outputs_hidden": true
    },
    "papermill": {
     "duration": 0.05968,
     "end_time": "2025-10-01T12:34:55.546879",
     "exception": false,
     "start_time": "2025-10-01T12:34:55.487199",
     "status": "completed"
    },
    "tags": []
   },
   "outputs": [
    {
     "name": "stderr",
     "output_type": "stream",
     "text": [
      "/usr/local/lib/python3.11/dist-packages/pandas/core/arraylike.py:399: RuntimeWarning: invalid value encountered in log1p\n",
      "  result = getattr(ufunc, method)(*inputs, **kwargs)\n",
      "/usr/local/lib/python3.11/dist-packages/pandas/core/arraylike.py:399: RuntimeWarning: invalid value encountered in log1p\n",
      "  result = getattr(ufunc, method)(*inputs, **kwargs)\n",
      "/usr/local/lib/python3.11/dist-packages/pandas/core/arraylike.py:399: RuntimeWarning: invalid value encountered in log1p\n",
      "  result = getattr(ufunc, method)(*inputs, **kwargs)\n"
     ]
    }
   ],
   "source": [
    "# ------------------------------\n",
    "# Feature Engineering (shared)\n",
    "# ------------------------------\n",
    "def feature_engineering(df):\n",
    "    df = df.copy()\n",
    "\n",
    "    # family Size \n",
    "    df[\"FamilySize\"] = df[\"SibSp\"] + df[\"Parch\"] + 1\n",
    "\n",
    "    # Fare per person\n",
    "    df[\"FarePerPerson\"] = df[\"Fare\"] / df[\"FamilySize\"]\n",
    "\n",
    "    # Cabin Known\n",
    "    df[\"CabinKnown\"] = df[\"Cabin\"].notnull().astype(int)\n",
    "\n",
    "     # Extract Title\n",
    "    df[\"Title\"] = df[\"Name\"].str.extract(r' ([A-Za-z]+)\\.', expand=False)\n",
    "    df[\"Title\"] = df[\"Title\"].replace(\n",
    "        ['Lady', 'Countess','Capt', 'Col','Don', 'Dr', 'Major', 'Rev',\n",
    "         'Sir', 'Jonkheer', 'Dona'], 'Rare')\n",
    "    df[\"Title\"] = df[\"Title\"].replace(['Mlle', 'Ms'], 'Miss')\n",
    "    df[\"Title\"] = df[\"Title\"].replace('Mme', 'Mrs')\n",
    "\n",
    "     # Log-transform skewed features\n",
    "    df[\"LogFare\"] = np.log1p(df[\"Fare\"])\n",
    "    df[\"LogAge\"] = np.log1p(df[\"Age\"])\n",
    "\n",
    "    return df\n",
    "\n",
    "train_df = feature_engineering(train_df)\n",
    "test_df  = feature_engineering(test_df)\n",
    "\n",
    "# Target & Features\n",
    "X = train_df.drop([\"Survived\", \"PassengerId\", \"Name\", \"Ticket\", \"Cabin\"], axis=1)\n",
    "y = train_df[\"Survived\"]\n",
    "X_test_final = test_df.drop([\"PassengerId\", \"Name\", \"Ticket\", \"Cabin\"], axis=1)"
   ]
  },
  {
   "cell_type": "code",
   "execution_count": 22,
   "id": "c5cbe4f9",
   "metadata": {
    "execution": {
     "iopub.execute_input": "2025-10-01T12:34:55.567862Z",
     "iopub.status.busy": "2025-10-01T12:34:55.566367Z",
     "iopub.status.idle": "2025-10-01T12:34:55.581800Z",
     "shell.execute_reply": "2025-10-01T12:34:55.580794Z"
    },
    "papermill": {
     "duration": 0.027332,
     "end_time": "2025-10-01T12:34:55.583635",
     "exception": false,
     "start_time": "2025-10-01T12:34:55.556303",
     "status": "completed"
    },
    "tags": []
   },
   "outputs": [
    {
     "data": {
      "text/html": [
       "<div>\n",
       "<style scoped>\n",
       "    .dataframe tbody tr th:only-of-type {\n",
       "        vertical-align: middle;\n",
       "    }\n",
       "\n",
       "    .dataframe tbody tr th {\n",
       "        vertical-align: top;\n",
       "    }\n",
       "\n",
       "    .dataframe thead th {\n",
       "        text-align: right;\n",
       "    }\n",
       "</style>\n",
       "<table border=\"1\" class=\"dataframe\">\n",
       "  <thead>\n",
       "    <tr style=\"text-align: right;\">\n",
       "      <th></th>\n",
       "      <th>Pclass</th>\n",
       "      <th>Sex</th>\n",
       "      <th>Age</th>\n",
       "      <th>SibSp</th>\n",
       "      <th>Parch</th>\n",
       "      <th>Fare</th>\n",
       "      <th>Embarked</th>\n",
       "      <th>FamilySize</th>\n",
       "      <th>FarePerPerson</th>\n",
       "      <th>CabinKnown</th>\n",
       "      <th>Title</th>\n",
       "      <th>LogFare</th>\n",
       "      <th>LogAge</th>\n",
       "    </tr>\n",
       "  </thead>\n",
       "  <tbody>\n",
       "    <tr>\n",
       "      <th>0</th>\n",
       "      <td>3</td>\n",
       "      <td>male</td>\n",
       "      <td>22.0</td>\n",
       "      <td>1</td>\n",
       "      <td>0</td>\n",
       "      <td>7.2500</td>\n",
       "      <td>S</td>\n",
       "      <td>2</td>\n",
       "      <td>3.62500</td>\n",
       "      <td>0</td>\n",
       "      <td>Mr</td>\n",
       "      <td>2.110213</td>\n",
       "      <td>3.135494</td>\n",
       "    </tr>\n",
       "    <tr>\n",
       "      <th>1</th>\n",
       "      <td>1</td>\n",
       "      <td>female</td>\n",
       "      <td>38.0</td>\n",
       "      <td>1</td>\n",
       "      <td>0</td>\n",
       "      <td>71.2833</td>\n",
       "      <td>C</td>\n",
       "      <td>2</td>\n",
       "      <td>35.64165</td>\n",
       "      <td>1</td>\n",
       "      <td>Mrs</td>\n",
       "      <td>4.280593</td>\n",
       "      <td>3.663562</td>\n",
       "    </tr>\n",
       "    <tr>\n",
       "      <th>2</th>\n",
       "      <td>3</td>\n",
       "      <td>female</td>\n",
       "      <td>26.0</td>\n",
       "      <td>0</td>\n",
       "      <td>0</td>\n",
       "      <td>7.9250</td>\n",
       "      <td>S</td>\n",
       "      <td>1</td>\n",
       "      <td>7.92500</td>\n",
       "      <td>0</td>\n",
       "      <td>Miss</td>\n",
       "      <td>2.188856</td>\n",
       "      <td>3.295837</td>\n",
       "    </tr>\n",
       "    <tr>\n",
       "      <th>3</th>\n",
       "      <td>1</td>\n",
       "      <td>female</td>\n",
       "      <td>35.0</td>\n",
       "      <td>1</td>\n",
       "      <td>0</td>\n",
       "      <td>53.1000</td>\n",
       "      <td>S</td>\n",
       "      <td>2</td>\n",
       "      <td>26.55000</td>\n",
       "      <td>1</td>\n",
       "      <td>Mrs</td>\n",
       "      <td>3.990834</td>\n",
       "      <td>3.583519</td>\n",
       "    </tr>\n",
       "    <tr>\n",
       "      <th>4</th>\n",
       "      <td>3</td>\n",
       "      <td>male</td>\n",
       "      <td>35.0</td>\n",
       "      <td>0</td>\n",
       "      <td>0</td>\n",
       "      <td>8.0500</td>\n",
       "      <td>S</td>\n",
       "      <td>1</td>\n",
       "      <td>8.05000</td>\n",
       "      <td>0</td>\n",
       "      <td>Mr</td>\n",
       "      <td>2.202765</td>\n",
       "      <td>3.583519</td>\n",
       "    </tr>\n",
       "  </tbody>\n",
       "</table>\n",
       "</div>"
      ],
      "text/plain": [
       "   Pclass     Sex   Age  SibSp  Parch     Fare Embarked  FamilySize  \\\n",
       "0       3    male  22.0      1      0   7.2500        S           2   \n",
       "1       1  female  38.0      1      0  71.2833        C           2   \n",
       "2       3  female  26.0      0      0   7.9250        S           1   \n",
       "3       1  female  35.0      1      0  53.1000        S           2   \n",
       "4       3    male  35.0      0      0   8.0500        S           1   \n",
       "\n",
       "   FarePerPerson  CabinKnown Title   LogFare    LogAge  \n",
       "0        3.62500           0    Mr  2.110213  3.135494  \n",
       "1       35.64165           1   Mrs  4.280593  3.663562  \n",
       "2        7.92500           0  Miss  2.188856  3.295837  \n",
       "3       26.55000           1   Mrs  3.990834  3.583519  \n",
       "4        8.05000           0    Mr  2.202765  3.583519  "
      ]
     },
     "execution_count": 22,
     "metadata": {},
     "output_type": "execute_result"
    }
   ],
   "source": [
    "X.head()"
   ]
  },
  {
   "cell_type": "markdown",
   "id": "3567ca7e",
   "metadata": {
    "papermill": {
     "duration": 0.076627,
     "end_time": "2025-10-01T12:34:55.670501",
     "exception": false,
     "start_time": "2025-10-01T12:34:55.593874",
     "status": "completed"
    },
    "tags": []
   },
   "source": [
    "# Pipeline Setup"
   ]
  },
  {
   "cell_type": "code",
   "execution_count": 23,
   "id": "392d9bd5",
   "metadata": {
    "execution": {
     "iopub.execute_input": "2025-10-01T12:34:55.691970Z",
     "iopub.status.busy": "2025-10-01T12:34:55.691652Z",
     "iopub.status.idle": "2025-10-01T12:34:55.698778Z",
     "shell.execute_reply": "2025-10-01T12:34:55.697718Z"
    },
    "papermill": {
     "duration": 0.020249,
     "end_time": "2025-10-01T12:34:55.700640",
     "exception": false,
     "start_time": "2025-10-01T12:34:55.680391",
     "status": "completed"
    },
    "tags": []
   },
   "outputs": [],
   "source": [
    "# Numerical columns\n",
    "num_cols = X.select_dtypes(include=[np.number]).columns\n",
    "\n",
    "# Categorical columns\n",
    "cat_cols = [c for c in X.columns if c not in num_cols]"
   ]
  },
  {
   "cell_type": "code",
   "execution_count": 24,
   "id": "fde0c34e",
   "metadata": {
    "execution": {
     "iopub.execute_input": "2025-10-01T12:34:55.721149Z",
     "iopub.status.busy": "2025-10-01T12:34:55.720808Z",
     "iopub.status.idle": "2025-10-01T12:34:55.726716Z",
     "shell.execute_reply": "2025-10-01T12:34:55.725554Z"
    },
    "papermill": {
     "duration": 0.018161,
     "end_time": "2025-10-01T12:34:55.728619",
     "exception": false,
     "start_time": "2025-10-01T12:34:55.710458",
     "status": "completed"
    },
    "tags": []
   },
   "outputs": [],
   "source": [
    "# Preprocessor\n",
    "preprocessor = ColumnTransformer(\n",
    "    transformers=[\n",
    "        (\"num\", Pipeline([\n",
    "            (\"imputer\", SimpleImputer(strategy=\"median\")),\n",
    "            (\"scaler\", StandardScaler())\n",
    "        ]), num_cols),\n",
    "        \n",
    "        (\"cat\", Pipeline([\n",
    "            (\"imputer\", SimpleImputer(strategy=\"most_frequent\")),\n",
    "            (\"onehot\", OneHotEncoder(handle_unknown=\"ignore\"))\n",
    "        ]), cat_cols)\n",
    "    ]\n",
    ")"
   ]
  },
  {
   "cell_type": "code",
   "execution_count": 25,
   "id": "deedfda0",
   "metadata": {
    "execution": {
     "iopub.execute_input": "2025-10-01T12:34:55.749418Z",
     "iopub.status.busy": "2025-10-01T12:34:55.749065Z",
     "iopub.status.idle": "2025-10-01T12:34:55.754563Z",
     "shell.execute_reply": "2025-10-01T12:34:55.753365Z"
    },
    "papermill": {
     "duration": 0.01785,
     "end_time": "2025-10-01T12:34:55.756538",
     "exception": false,
     "start_time": "2025-10-01T12:34:55.738688",
     "status": "completed"
    },
    "tags": []
   },
   "outputs": [],
   "source": [
    "# Final Pipeline with Model\n",
    "model = Pipeline(steps=[\n",
    "    (\"preprocessor\", preprocessor),\n",
    "    (\"classifier\", RandomForestClassifier(\n",
    "        n_estimators=200, max_depth=7, random_state=42\n",
    "    ))\n",
    "])"
   ]
  },
  {
   "cell_type": "markdown",
   "id": "9d770647",
   "metadata": {
    "papermill": {
     "duration": 0.00953,
     "end_time": "2025-10-01T12:34:55.776083",
     "exception": false,
     "start_time": "2025-10-01T12:34:55.766553",
     "status": "completed"
    },
    "tags": []
   },
   "source": [
    "# Training & Validation"
   ]
  },
  {
   "cell_type": "code",
   "execution_count": 26,
   "id": "81542fbb",
   "metadata": {
    "execution": {
     "iopub.execute_input": "2025-10-01T12:34:55.796815Z",
     "iopub.status.busy": "2025-10-01T12:34:55.796432Z",
     "iopub.status.idle": "2025-10-01T12:34:57.740289Z",
     "shell.execute_reply": "2025-10-01T12:34:57.739062Z"
    },
    "papermill": {
     "duration": 1.956156,
     "end_time": "2025-10-01T12:34:57.741847",
     "exception": false,
     "start_time": "2025-10-01T12:34:55.785691",
     "status": "completed"
    },
    "tags": []
   },
   "outputs": [
    {
     "name": "stdout",
     "output_type": "stream",
     "text": [
      "Cross-validation Accuracy: 0.8316238779737619\n"
     ]
    }
   ],
   "source": [
    "scores = cross_val_score(model, X, y, cv=5, scoring=\"accuracy\")\n",
    "print(\"Cross-validation Accuracy:\", scores.mean())"
   ]
  },
  {
   "cell_type": "markdown",
   "id": "e969f23b",
   "metadata": {
    "papermill": {
     "duration": 0.011509,
     "end_time": "2025-10-01T12:34:57.763203",
     "exception": false,
     "start_time": "2025-10-01T12:34:57.751694",
     "status": "completed"
    },
    "tags": []
   },
   "source": [
    "# Fine Tuning By RandomizedSearch"
   ]
  },
  {
   "cell_type": "code",
   "execution_count": 27,
   "id": "50a88396",
   "metadata": {
    "execution": {
     "iopub.execute_input": "2025-10-01T12:34:57.784464Z",
     "iopub.status.busy": "2025-10-01T12:34:57.784124Z",
     "iopub.status.idle": "2025-10-01T12:36:08.108502Z",
     "shell.execute_reply": "2025-10-01T12:36:08.107349Z"
    },
    "papermill": {
     "duration": 70.34584,
     "end_time": "2025-10-01T12:36:08.119553",
     "exception": false,
     "start_time": "2025-10-01T12:34:57.773713",
     "status": "completed"
    },
    "tags": []
   },
   "outputs": [
    {
     "name": "stdout",
     "output_type": "stream",
     "text": [
      "Best Params: {'classifier__max_depth': 12, 'classifier__max_features': None, 'classifier__min_samples_leaf': 3, 'classifier__min_samples_split': 5, 'classifier__n_estimators': 154}\n",
      "Best CV Score: 0.8462431736865232\n"
     ]
    }
   ],
   "source": [
    "from sklearn.model_selection import RandomizedSearchCV\n",
    "from sklearn.ensemble import RandomForestClassifier\n",
    "from scipy.stats import randint\n",
    "\n",
    "# Parameter distributions for Random Forest\n",
    "param_dist = {\n",
    "    \"classifier__n_estimators\": randint(100, 500),\n",
    "    \"classifier__max_depth\": randint(3, 15),\n",
    "    \"classifier__min_samples_split\": randint(2, 10),\n",
    "    \"classifier__min_samples_leaf\": randint(1, 10),\n",
    "    \"classifier__max_features\": [\"sqrt\", \"log2\", None]\n",
    "}\n",
    "\n",
    "# Randomized Search\n",
    "random_search = RandomizedSearchCV(\n",
    "    model,  #  pipeline is called model\n",
    "    param_distributions=param_dist,\n",
    "    n_iter=50,\n",
    "    scoring=\"accuracy\",\n",
    "    cv=5,\n",
    "    random_state=42,\n",
    "    n_jobs=-1\n",
    ")\n",
    "\n",
    "random_search.fit(X, y)\n",
    "\n",
    "print(\"Best Params:\", random_search.best_params_)\n",
    "print(\"Best CV Score:\", random_search.best_score_)\n",
    "\n",
    "# Evaluate on validation/test set\n",
    "best_model = random_search.best_estimator_"
   ]
  },
  {
   "cell_type": "code",
   "execution_count": 28,
   "id": "0fe2a4f0",
   "metadata": {
    "execution": {
     "iopub.execute_input": "2025-10-01T12:36:08.139946Z",
     "iopub.status.busy": "2025-10-01T12:36:08.139637Z",
     "iopub.status.idle": "2025-10-01T12:36:08.166863Z",
     "shell.execute_reply": "2025-10-01T12:36:08.165685Z"
    },
    "papermill": {
     "duration": 0.039483,
     "end_time": "2025-10-01T12:36:08.168589",
     "exception": false,
     "start_time": "2025-10-01T12:36:08.129106",
     "status": "completed"
    },
    "tags": []
   },
   "outputs": [],
   "source": [
    "predictions = best_model.predict(X_test_final)"
   ]
  },
  {
   "cell_type": "code",
   "execution_count": 29,
   "id": "ac2063d1",
   "metadata": {
    "execution": {
     "iopub.execute_input": "2025-10-01T12:36:08.189999Z",
     "iopub.status.busy": "2025-10-01T12:36:08.189652Z",
     "iopub.status.idle": "2025-10-01T12:36:09.483314Z",
     "shell.execute_reply": "2025-10-01T12:36:09.482335Z"
    },
    "papermill": {
     "duration": 1.306009,
     "end_time": "2025-10-01T12:36:09.484933",
     "exception": false,
     "start_time": "2025-10-01T12:36:08.178924",
     "status": "completed"
    },
    "tags": []
   },
   "outputs": [
    {
     "data": {
      "text/plain": [
       "array([[<Axes: title={'center': 'Pclass'}>,\n",
       "        <Axes: title={'center': 'Age'}>,\n",
       "        <Axes: title={'center': 'SibSp'}>],\n",
       "       [<Axes: title={'center': 'Parch'}>,\n",
       "        <Axes: title={'center': 'Fare'}>,\n",
       "        <Axes: title={'center': 'FamilySize'}>],\n",
       "       [<Axes: title={'center': 'FarePerPerson'}>,\n",
       "        <Axes: title={'center': 'CabinKnown'}>,\n",
       "        <Axes: title={'center': 'LogFare'}>],\n",
       "       [<Axes: title={'center': 'LogAge'}>, <Axes: >, <Axes: >]],\n",
       "      dtype=object)"
      ]
     },
     "execution_count": 29,
     "metadata": {},
     "output_type": "execute_result"
    },
    {
     "data": {
      "image/png": "[encoded data removed]",
      "text/plain": [
       "<Figure size 640x480 with 12 Axes>"
      ]
     },
     "metadata": {},
     "output_type": "display_data"
    }
   ],
   "source": [
    "X.hist()"
   ]
  },
  {
   "cell_type": "markdown",
   "id": "f1cd0b11",
   "metadata": {
    "papermill": {
     "duration": 0.01086,
     "end_time": "2025-10-01T12:36:09.506091",
     "exception": false,
     "start_time": "2025-10-01T12:36:09.495231",
     "status": "completed"
    },
    "tags": []
   },
   "source": [
    "# Submission"
   ]
  },
  {
   "cell_type": "code",
   "execution_count": 30,
   "id": "b35022c0",
   "metadata": {
    "execution": {
     "iopub.execute_input": "2025-10-01T12:36:09.527821Z",
     "iopub.status.busy": "2025-10-01T12:36:09.527498Z",
     "iopub.status.idle": "2025-10-01T12:36:09.532884Z",
     "shell.execute_reply": "2025-10-01T12:36:09.531690Z"
    },
    "papermill": {
     "duration": 0.018102,
     "end_time": "2025-10-01T12:36:09.534473",
     "exception": false,
     "start_time": "2025-10-01T12:36:09.516371",
     "status": "completed"
    },
    "tags": []
   },
   "outputs": [],
   "source": [
    "submission = pd.DataFrame({\n",
    "    \"PassengerId\": test_df[\"PassengerId\"],\n",
    "    \"Survived\": predictions\n",
    "})"
   ]
  },
  {
   "cell_type": "code",
   "execution_count": 31,
   "id": "7bf9a961",
   "metadata": {
    "execution": {
     "iopub.execute_input": "2025-10-01T12:36:09.557184Z",
     "iopub.status.busy": "2025-10-01T12:36:09.556851Z",
     "iopub.status.idle": "2025-10-01T12:36:09.568054Z",
     "shell.execute_reply": "2025-10-01T12:36:09.566977Z"
    },
    "papermill": {
     "duration": 0.024117,
     "end_time": "2025-10-01T12:36:09.569781",
     "exception": false,
     "start_time": "2025-10-01T12:36:09.545664",
     "status": "completed"
    },
    "tags": []
   },
   "outputs": [],
   "source": [
    "submission.to_csv(\"submission.csv\", index=False)"
   ]
  }
 ],
 "metadata": {
  "kaggle": {
   "accelerator": "none",
   "dataSources": [
    {
     "databundleVersionId": 26502,
     "sourceId": 3136,
     "sourceType": "competition"
    }
   ],
   "dockerImageVersionId": 31089,
   "isGpuEnabled": false,
   "isInternetEnabled": false,
   "language": "python",
   "sourceType": "notebook"
  },
  "kernelspec": {
   "display_name": "Python 3",
   "language": "python",
   "name": "python3"
  },
  "language_info": {
   "codemirror_mode": {
    "name": "ipython",
    "version": 3
   },
   "file_extension": ".py",
   "mimetype": "text/x-python",
   "name": "python",
   "nbconvert_exporter": "python",
   "pygments_lexer": "ipython3",
   "version": "3.11.13"
  },
  "papermill": {
   "default_parameters": {},
   "duration": 91.090069,
   "end_time": "2025-10-01T12:36:12.202535",
   "environment_variables": {},
   "exception": null,
   "input_path": "__notebook__.ipynb",
   "output_path": "__notebook__.ipynb",
   "parameters": {},
   "start_time": "2025-10-01T12:34:41.112466",
   "version": "2.6.0"
  }
 },
 "nbformat": 4,
 "nbformat_minor": 5
}
